{
  "nbformat": 4,
  "nbformat_minor": 0,
  "metadata": {
    "kernelspec": {
      "display_name": "Python 3",
      "language": "python",
      "name": "python3"
    },
    "language_info": {
      "codemirror_mode": {
        "name": "ipython",
        "version": 3
      },
      "file_extension": ".py",
      "mimetype": "text/x-python",
      "name": "python",
      "nbconvert_exporter": "python",
      "pygments_lexer": "ipython3",
      "version": "3.7.6"
    },
    "colab": {
      "name": "hw2_204127757_200752061.ipynb",
      "provenance": [],
      "collapsed_sections": []
    },
    "accelerator": "GPU"
  },
  "cells": [
    {
      "cell_type": "code",
      "metadata": {
        "id": "ol8HqjaXY6ja",
        "colab_type": "code",
        "colab": {}
      },
      "source": [
        "# imports for the tutorial\n",
        "import numpy as np\n",
        "import matplotlib.pyplot as plt\n",
        "import time\n",
        "import os\n",
        "\n",
        "# pytorch\n",
        "import torch\n",
        "import torch.nn as nn\n",
        "import torchvision\n",
        "import torchvision.transforms as transforms"
      ],
      "execution_count": 0,
      "outputs": []
    },
    {
      "cell_type": "code",
      "metadata": {
        "id": "ME7QeFqiY6ji",
        "colab_type": "code",
        "outputId": "868b1d30-9fa0-431c-dd25-d8accec9378a",
        "colab": {
          "base_uri": "https://localhost:8080/",
          "height": 51
        }
      },
      "source": [
        "# define pre-processing steps on the images\n",
        "# also called \"data augementation\" (only done for the train set)\n",
        "\n",
        "transform_train = transforms.Compose([\n",
        "    transforms.RandomCrop(32, padding=4),\n",
        "    transforms.RandomHorizontalFlip(),\n",
        "    transforms.ToTensor(),\n",
        "    transforms.Normalize((0.4914, 0.4822, 0.4465), (0.2023, 0.1994, 0.2010)),\n",
        "])\n",
        "\n",
        "# Normalize the test set same as training set without augmentation\n",
        "transform_test = transforms.Compose([\n",
        "    transforms.ToTensor(),\n",
        "    transforms.Normalize((0.4914, 0.4822, 0.4465), (0.2023, 0.1994, 0.2010)),\n",
        "])\n",
        "\n",
        "# load dataset\n",
        "\n",
        "\n",
        "trainset = torchvision.datasets.SVHN(\n",
        "    root='./datasets', split='train', download=True, transform=transform_train)\n",
        "\n",
        "testset = torchvision.datasets.SVHN(\n",
        "    root='./datasets', split='test', download=True, transform=transform_test)"
      ],
      "execution_count": 54,
      "outputs": [
        {
          "output_type": "stream",
          "text": [
            "Using downloaded and verified file: ./datasets/train_32x32.mat\n",
            "Using downloaded and verified file: ./datasets/test_32x32.mat\n"
          ],
          "name": "stdout"
        }
      ]
    },
    {
      "cell_type": "code",
      "metadata": {
        "id": "1knm2E08Y6jq",
        "colab_type": "code",
        "outputId": "e1db6ed4-42ab-4096-e802-92c542cd77c7",
        "colab": {
          "base_uri": "https://localhost:8080/",
          "height": 235
        }
      },
      "source": [
        "# let's see some of the images\n",
        "def convert_to_imshow_format(image):\n",
        "    # first convert back to [0,1] range from [-1,1] range - approximately...\n",
        "    image = image / 2 + 0.5\n",
        "    image = image.numpy()\n",
        "    # convert from CHW to HWC\n",
        "    # from 3x32x32 to 32x32x3\n",
        "    return image.transpose(1,2,0)\n",
        "\n",
        "testloader = torch.utils.data.DataLoader(testset, \n",
        "                                          batch_size=5,\n",
        "                                          shuffle=True)\n",
        "dataiter = iter(testloader)\n",
        "images, labels = dataiter.next()\n",
        "\n",
        "fig, axes = plt.subplots(1, len(images), figsize=(12,2.5))\n",
        "for idx, image in enumerate(images):\n",
        "    axes[idx].imshow(convert_to_imshow_format(image))\n",
        "    #axes[idx].set_title(classes[labels[idx]])\n",
        "    axes[idx].set_xticks([])\n",
        "    axes[idx].set_yticks([])"
      ],
      "execution_count": 55,
      "outputs": [
        {
          "output_type": "stream",
          "text": [
            "Clipping input data to the valid range for imshow with RGB data ([0..1] for floats or [0..255] for integers).\n",
            "Clipping input data to the valid range for imshow with RGB data ([0..1] for floats or [0..255] for integers).\n",
            "Clipping input data to the valid range for imshow with RGB data ([0..1] for floats or [0..255] for integers).\n",
            "Clipping input data to the valid range for imshow with RGB data ([0..1] for floats or [0..255] for integers).\n",
            "Clipping input data to the valid range for imshow with RGB data ([0..1] for floats or [0..255] for integers).\n"
          ],
          "name": "stderr"
        },
        {
          "output_type": "display_data",
          "data": {
            "image/png": "[encoded data removed]",
            "text/plain": [
              "<Figure size 864x180 with 5 Axes>"
            ]
          },
          "metadata": {
            "tags": []
          }
        }
      ]
    },
    {
      "cell_type": "code",
      "metadata": {
        "id": "F_8z2R2kY6j8",
        "colab_type": "code",
        "colab": {}
      },
      "source": [
        "class svhnNet(nn.Module):\n",
        "    \n",
        "    \n",
        "    layer_one_out = 32\n",
        "    layer_two_out = 64\n",
        "    layer_three_out = 128\n",
        "    layer_four_out = 128\n",
        "    layer_five_out = 256\n",
        "    layer_six_out = 256\n",
        "    layer_seven_out = 512\n",
        "    block_one_ksize = 3\n",
        "    block_two_ksize = 3\n",
        "    block_three_ksize = 3\n",
        "    \n",
        "    def __init__(self):\n",
        "        \"\"\"CNN Builder.\"\"\"\n",
        "        super(svhnNet, self).__init__()\n",
        "\n",
        "        self.conv_layer = nn.Sequential(\n",
        "            \n",
        "            # Conv Layer block 1\n",
        "            nn.Conv2d(in_channels=3, out_channels=self.layer_one_out, kernel_size=self.block_one_ksize, padding=1),\n",
        "            nn.BatchNorm2d(self.layer_one_out),\n",
        "            nn.ReLU(inplace=True),\n",
        "            nn.Conv2d(in_channels=self.layer_one_out, out_channels=self.layer_two_out, kernel_size=self.block_one_ksize, padding=1),\n",
        "            nn.ReLU(inplace=True),\n",
        "            nn.MaxPool2d(kernel_size=2, stride=2),\n",
        "\n",
        "\n",
        "            \n",
        "            # Conv Layer block 2\n",
        "            nn.Conv2d(in_channels=self.layer_two_out, out_channels=self.layer_three_out, kernel_size=self.block_two_ksize, padding=1),\n",
        "            nn.BatchNorm2d(self.layer_three_out),\n",
        "            nn.ReLU(inplace=True),\n",
        "            nn.Conv2d(in_channels=self.layer_three_out, out_channels=self.layer_four_out, kernel_size=self.block_two_ksize, padding=1),\n",
        "            nn.ReLU(inplace=True),\n",
        "            nn.MaxPool2d(kernel_size=2, stride=2),\n",
        "            nn.Dropout2d(p=0.05),\n",
        "\n",
        "\n",
        "            \n",
        "            # Conv Layer block 3\n",
        "            nn.Conv2d(in_channels=self.layer_four_out, out_channels=self.layer_five_out, kernel_size=self.block_three_ksize, padding=1),\n",
        "            nn.BatchNorm2d(self.layer_five_out),\n",
        "            nn.ReLU(inplace=True),\n",
        "            nn.Conv2d(in_channels=self.layer_five_out, out_channels=self.layer_six_out, kernel_size=self.block_three_ksize, padding=1),\n",
        "            nn.ReLU(inplace=True),\n",
        "            nn.Conv2d(in_channels=self.layer_six_out, out_channels=self.layer_seven_out, kernel_size=self.block_three_ksize, padding=1),\n",
        "            nn.BatchNorm2d(self.layer_seven_out),\n",
        "            nn.ReLU(inplace=True),\n",
        "            nn.MaxPool2d(kernel_size=2, stride=2),\n",
        "        )\n",
        "\n",
        "\n",
        "        self.fc_layer = nn.Sequential(\n",
        "            nn.Dropout(p=0.1),\n",
        "            nn.Linear(8192, 4096),\n",
        "            nn.ReLU(inplace=True),\n",
        "            nn.Linear(4096, 1024),\n",
        "            nn.ReLU(inplace=True),\n",
        "            nn.Linear(1024, 512),\n",
        "            nn.ReLU(inplace=True),\n",
        "            nn.Dropout(p=0.1),\n",
        "            nn.Linear(512, 10)\n",
        "        )\n",
        "\n",
        "\n",
        "    def forward(self, x):\n",
        "        \"\"\"Perform forward.\"\"\"\n",
        "        \n",
        "        # conv layers\n",
        "        x = self.conv_layer(x)\n",
        "        \n",
        "        # flatten\n",
        "        x = x.view(x.size(0), -1)\n",
        "        \n",
        "        # fc layer\n",
        "        x = self.fc_layer(x)\n",
        "\n",
        "        return x"
      ],
      "execution_count": 0,
      "outputs": []
    },
    {
      "cell_type": "code",
      "metadata": {
        "id": "K1wM8lQ_t6XG",
        "colab_type": "code",
        "colab": {
          "base_uri": "https://localhost:8080/",
          "height": 51
        },
        "outputId": "12f7b233-ffc3-48ff-fe3c-33b370472979"
      },
      "source": [
        "x = torch.ones([1,3,32,32])\n",
        "# device - cpu or gpu?\n",
        "tmp = svhnNet()\n",
        "y = tmp.conv_layer(x)\n",
        "print(y.shape)\n",
        "z= 512*4*4\n",
        "z"
      ],
      "execution_count": 57,
      "outputs": [
        {
          "output_type": "stream",
          "text": [
            "torch.Size([1, 512, 4, 4])\n"
          ],
          "name": "stdout"
        },
        {
          "output_type": "execute_result",
          "data": {
            "text/plain": [
              "8192"
            ]
          },
          "metadata": {
            "tags": []
          },
          "execution_count": 57
        }
      ]
    },
    {
      "cell_type": "code",
      "metadata": {
        "id": "I8Q5aYHiY6kE",
        "colab_type": "code",
        "colab": {}
      },
      "source": [
        "# time to train our model\n",
        "# hyper-parameters\n",
        "batch_size = 128\n",
        "learning_rate = 1e-4\n",
        "epochs = 20\n",
        "\n",
        "# dataloaders - creating batches and shuffling the data\n",
        "trainloader = torch.utils.data.DataLoader(\n",
        "    trainset, batch_size=batch_size, shuffle=True, num_workers=2)\n",
        "testloader = torch.utils.data.DataLoader(\n",
        "    testset, batch_size=batch_size, shuffle=False, num_workers=2)\n",
        "\n",
        "# device - cpu or gpu?\n",
        "device = torch.device(\"cuda:0\" if torch.cuda.is_available() else \"cpu\")\n",
        "\n",
        "# loss criterion\n",
        "criterion = nn.CrossEntropyLoss()\n",
        "\n",
        "# build our model and send it to the device\n",
        "model = svhnNet().to(device) # no need for parameters as we alredy defined them in the class\n",
        "\n",
        "# optimizer - SGD, Adam, RMSProp...\n",
        "optimizer = torch.optim.Adam(model.parameters(), lr=learning_rate)"
      ],
      "execution_count": 0,
      "outputs": []
    },
    {
      "cell_type": "code",
      "metadata": {
        "id": "wKCEtj8kY6kN",
        "colab_type": "code",
        "colab": {}
      },
      "source": [
        "# function to calcualte accuracy of the model\n",
        "def calculate_accuracy(model, dataloader, device):\n",
        "    model.eval() # put in evaluation mode\n",
        "    total_correct = 0\n",
        "    total_images = 0\n",
        "    confusion_matrix = np.zeros([10,10], int)\n",
        "    with torch.no_grad():\n",
        "        for data in dataloader:\n",
        "            images, labels = data\n",
        "            images = images.to(device)\n",
        "            labels = labels.to(device)\n",
        "            outputs = model(images)\n",
        "            _, predicted = torch.max(outputs.data, 1)\n",
        "            total_images += labels.size(0)\n",
        "            total_correct += (predicted == labels).sum().item()\n",
        "            for i, l in enumerate(labels):\n",
        "                confusion_matrix[l.item(), predicted[i].item()] += 1 \n",
        "\n",
        "    model_accuracy = total_correct / total_images * 100\n",
        "    return model_accuracy, confusion_matrix"
      ],
      "execution_count": 0,
      "outputs": []
    },
    {
      "cell_type": "code",
      "metadata": {
        "id": "72Lj3syJY6kT",
        "colab_type": "code",
        "outputId": "c8327fff-338b-48ae-87df-ffd5ad76962d",
        "colab": {
          "base_uri": "https://localhost:8080/",
          "height": 204
        }
      },
      "source": [
        "# training loop\n",
        "for epoch in range(1, epochs + 1):\n",
        "    model.train()  # put in training mode\n",
        "    running_loss = 0.0\n",
        "    epoch_time = time.time()\n",
        "    for i, data in enumerate(trainloader, 0):\n",
        "        # get the inputs\n",
        "        inputs, labels = data\n",
        "        # send them to device\n",
        "        inputs = inputs.to(device)\n",
        "        labels = labels.to(device)\n",
        "\n",
        "        # forward + backward + optimize\n",
        "        outputs = model(inputs)  # forward pass\n",
        "        loss = criterion(outputs, labels)  # calculate the loss\n",
        "        # always the same 3 steps\n",
        "        optimizer.zero_grad()  # zero the parameter gradients\n",
        "        loss.backward()  # backpropagation\n",
        "        optimizer.step()  # update parameters\n",
        "\n",
        "        # print statistics\n",
        "        running_loss += loss.data.item()\n",
        "\n",
        "    # Normalizing the loss by the total number of train batches\n",
        "    running_loss /= len(trainloader)\n",
        "\n",
        "    # Calculate training/test set accuracy of the existing model\n",
        "    train_accuracy, _ = calculate_accuracy(model, trainloader, device)\n",
        "    test_accuracy, _ = calculate_accuracy(model, testloader, device)\n",
        "\n",
        "    log = \"Epoch: {} | Loss: {:.4f} | Training accuracy: {:.3f}% | Test accuracy: {:.3f}% | \".format(epoch, running_loss, train_accuracy, test_accuracy)\n",
        "    epoch_time = time.time() - epoch_time\n",
        "    log += \"Epoch Time: {:.2f} secs\".format(epoch_time)\n",
        "    print(log)\n",
        "    \n",
        "    # save model\n",
        "    if epoch % 20 == 0:\n",
        "        print('==> Saving model ...')\n",
        "        state = {\n",
        "            'net': model.state_dict(),\n",
        "            'epoch': epoch,\n",
        "        }\n",
        "        if not os.path.isdir('checkpoints'):\n",
        "            os.mkdir('checkpoints')\n",
        "        torch.save(state, './checkpoints/svhn_cnn_ckpt.pth')\n",
        "\n",
        "print('==> Finished Training ...')"
      ],
      "execution_count": 0,
      "outputs": [
        {
          "output_type": "stream",
          "text": [
            "Epoch: 1 | Loss: 1.2252 | Training accuracy: 79.925% | Test accuracy: 80.670% | Epoch Time: 50.81 secs\n",
            "Epoch: 2 | Loss: 0.4683 | Training accuracy: 87.982% | Test accuracy: 87.688% | Epoch Time: 50.41 secs\n",
            "Epoch: 3 | Loss: 0.3654 | Training accuracy: 90.202% | Test accuracy: 91.165% | Epoch Time: 50.40 secs\n",
            "Epoch: 4 | Loss: 0.3195 | Training accuracy: 91.830% | Test accuracy: 92.148% | Epoch Time: 50.01 secs\n",
            "Epoch: 5 | Loss: 0.2872 | Training accuracy: 92.223% | Test accuracy: 92.006% | Epoch Time: 49.79 secs\n",
            "Epoch: 6 | Loss: 0.2637 | Training accuracy: 93.265% | Test accuracy: 93.619% | Epoch Time: 51.08 secs\n",
            "Epoch: 7 | Loss: 0.2487 | Training accuracy: 93.456% | Test accuracy: 92.482% | Epoch Time: 50.61 secs\n",
            "Epoch: 8 | Loss: 0.2320 | Training accuracy: 94.158% | Test accuracy: 94.107% | Epoch Time: 51.39 secs\n",
            "Epoch: 9 | Loss: 0.2240 | Training accuracy: 94.136% | Test accuracy: 94.019% | Epoch Time: 50.75 secs\n",
            "Epoch: 10 | Loss: 0.2126 | Training accuracy: 94.721% | Test accuracy: 94.196% | Epoch Time: 49.92 secs\n",
            "Epoch: 11 | Loss: 0.2039 | Training accuracy: 93.695% | Test accuracy: 92.352% | Epoch Time: 50.08 secs\n"
          ],
          "name": "stdout"
        }
      ]
    },
    {
      "cell_type": "code",
      "metadata": {
        "id": "B1gug_cuY6kd",
        "colab_type": "code",
        "outputId": "2d98d548-7fce-4d34-c4e4-4cbd15fcca10",
        "colab": {
          "base_uri": "https://localhost:8080/",
          "height": 602
        }
      },
      "source": [
        "# load model, calculate accuracy and confusion matrix\n",
        "model = svhnNet().to(device)\n",
        "state = torch.load('./checkpoints/svhn_cnn_ckpt.pth', map_location=device)\n",
        "model.load_state_dict(state['net'])\n",
        "\n",
        "test_accuracy, confusion_matrix = calculate_accuracy(model, testloader, device)\n",
        "print(\"test accuracy: {:.3f}%\".format(test_accuracy))\n",
        "\n",
        "# plot confusion matrix\n",
        "fig, ax = plt.subplots(1,1,figsize=(8,6))\n",
        "ax.matshow(confusion_matrix, aspect='auto', vmin=0, vmax=1000, cmap=plt.get_cmap('Blues'))\n",
        "plt.ylabel('Actual Category')\n",
        "#plt.yticks(range(10), classes)\n",
        "plt.xlabel('Predicted Category')\n",
        "plt.xticks(range(10), classes)\n",
        "plt.show()"
      ],
      "execution_count": 52,
      "outputs": [
        {
          "output_type": "stream",
          "text": [
            "test accuracy: 94.787%\n"
          ],
          "name": "stdout"
        },
        {
          "output_type": "error",
          "ename": "NameError",
          "evalue": "ignored",
          "traceback": [
            "\u001b[0;31m---------------------------------------------------------------------------\u001b[0m",
            "\u001b[0;31mNameError\u001b[0m                                 Traceback (most recent call last)",
            "\u001b[0;32m<ipython-input-52-6dd654e02fe4>\u001b[0m in \u001b[0;36m<module>\u001b[0;34m()\u001b[0m\n\u001b[1;32m     12\u001b[0m \u001b[0;31m#plt.yticks(range(10), classes)\u001b[0m\u001b[0;34m\u001b[0m\u001b[0;34m\u001b[0m\u001b[0;34m\u001b[0m\u001b[0m\n\u001b[1;32m     13\u001b[0m \u001b[0mplt\u001b[0m\u001b[0;34m.\u001b[0m\u001b[0mxlabel\u001b[0m\u001b[0;34m(\u001b[0m\u001b[0;34m'Predicted Category'\u001b[0m\u001b[0;34m)\u001b[0m\u001b[0;34m\u001b[0m\u001b[0;34m\u001b[0m\u001b[0m\n\u001b[0;32m---> 14\u001b[0;31m \u001b[0mplt\u001b[0m\u001b[0;34m.\u001b[0m\u001b[0mxticks\u001b[0m\u001b[0;34m(\u001b[0m\u001b[0mrange\u001b[0m\u001b[0;34m(\u001b[0m\u001b[0;36m10\u001b[0m\u001b[0;34m)\u001b[0m\u001b[0;34m,\u001b[0m \u001b[0mclasses\u001b[0m\u001b[0;34m)\u001b[0m\u001b[0;34m\u001b[0m\u001b[0;34m\u001b[0m\u001b[0m\n\u001b[0m\u001b[1;32m     15\u001b[0m \u001b[0mplt\u001b[0m\u001b[0;34m.\u001b[0m\u001b[0mshow\u001b[0m\u001b[0;34m(\u001b[0m\u001b[0;34m)\u001b[0m\u001b[0;34m\u001b[0m\u001b[0;34m\u001b[0m\u001b[0m\n",
            "\u001b[0;31mNameError\u001b[0m: name 'classes' is not defined"
          ]
        },
        {
          "output_type": "display_data",
          "data": {
            "image/png": "[encoded data removed]",
            "text/plain": [
              "<Figure size 576x432 with 1 Axes>"
            ]
          },
          "metadata": {
            "tags": [],
            "needs_background": "light"
          }
        }
      ]
    },
    {
      "cell_type": "code",
      "metadata": {
        "scrolled": false,
        "id": "oFQF5TXVY6kj",
        "colab_type": "code",
        "outputId": "ab5396b0-b5a2-4d77-ab47-6993a140fa23",
        "colab": {
          "base_uri": "https://localhost:8080/",
          "height": 643
        }
      },
      "source": [
        "# visualize filters\n",
        "# see available layers, in our case, the stacked layers are called \"conv_layer\"\n",
        "print(model.conv_layer)\n",
        "# extracting the model features at the particular layer number\n",
        "layer = model.conv_layer[0]  # to plot other layers, see the appendix tutorial\n",
        "# get the weights\n",
        "weight_tensor = layer.weight.data.cpu()\n",
        "\n",
        "# get the number of kernals\n",
        "num_kernels = weight_tensor.shape[0]    \n",
        "\n",
        "#define number of columns for subplots\n",
        "num_cols = 12\n",
        "# rows = num of kernels\n",
        "num_rows = num_kernels\n",
        "\n",
        "#set the figure size\n",
        "fig = plt.figure(figsize=(num_cols, num_rows))\n",
        "\n",
        "# looping through all the kernels\n",
        "for i in range(weight_tensor.shape[0]):\n",
        "    ax1 = fig.add_subplot(num_rows, num_cols, i+1)\n",
        "\n",
        "    #for each kernel, we convert the tensor to numpy \n",
        "    npimg = np.array(weight_tensor[i].numpy(), np.float32)\n",
        "    #standardize the numpy image\n",
        "    npimg = (npimg - np.mean(npimg)) / np.std(npimg)\n",
        "    npimg = np.minimum(1, np.maximum(0, (npimg + 0.5)))\n",
        "    npimg = npimg.transpose((1, 2, 0))\n",
        "    ax1.imshow(npimg)\n",
        "    ax1.axis('off')\n",
        "    ax1.set_title(str(i))\n",
        "    ax1.set_xticklabels([])\n",
        "    ax1.set_yticklabels([])\n",
        "\n",
        "plt.tight_layout()"
      ],
      "execution_count": 53,
      "outputs": [
        {
          "output_type": "stream",
          "text": [
            "Sequential(\n",
            "  (0): Conv2d(3, 32, kernel_size=(3, 3), stride=(1, 1), padding=(1, 1))\n",
            "  (1): BatchNorm2d(32, eps=1e-05, momentum=0.1, affine=True, track_running_stats=True)\n",
            "  (2): ReLU(inplace=True)\n",
            "  (3): Conv2d(32, 64, kernel_size=(3, 3), stride=(1, 1), padding=(1, 1))\n",
            "  (4): ReLU(inplace=True)\n",
            "  (5): MaxPool2d(kernel_size=2, stride=2, padding=0, dilation=1, ceil_mode=False)\n",
            "  (6): Conv2d(64, 128, kernel_size=(3, 3), stride=(1, 1), padding=(1, 1))\n",
            "  (7): BatchNorm2d(128, eps=1e-05, momentum=0.1, affine=True, track_running_stats=True)\n",
            "  (8): ReLU(inplace=True)\n",
            "  (9): Conv2d(128, 128, kernel_size=(3, 3), stride=(1, 1), padding=(1, 1))\n",
            "  (10): ReLU(inplace=True)\n",
            "  (11): MaxPool2d(kernel_size=2, stride=2, padding=0, dilation=1, ceil_mode=False)\n",
            "  (12): Dropout2d(p=0.05, inplace=False)\n",
            "  (13): Conv2d(128, 256, kernel_size=(3, 3), stride=(1, 1), padding=(1, 1))\n",
            "  (14): BatchNorm2d(256, eps=1e-05, momentum=0.1, affine=True, track_running_stats=True)\n",
            "  (15): ReLU(inplace=True)\n",
            "  (16): Conv2d(256, 256, kernel_size=(3, 3), stride=(1, 1), padding=(1, 1))\n",
            "  (17): ReLU(inplace=True)\n",
            "  (18): Conv2d(256, 512, kernel_size=(3, 3), stride=(1, 1), padding=(1, 1))\n",
            "  (19): BatchNorm2d(512, eps=1e-05, momentum=0.1, affine=True, track_running_stats=True)\n",
            "  (20): ReLU(inplace=True)\n",
            "  (21): MaxPool2d(kernel_size=2, stride=2, padding=0, dilation=1, ceil_mode=False)\n",
            ")\n"
          ],
          "name": "stdout"
        },
        {
          "output_type": "display_data",
          "data": {
            "image/png": "[encoded data removed]",
            "text/plain": [
              "<Figure size 864x2304 with 32 Axes>"
            ]
          },
          "metadata": {
            "tags": [],
            "needs_background": "light"
          }
        }
      ]
    }
  ]
}